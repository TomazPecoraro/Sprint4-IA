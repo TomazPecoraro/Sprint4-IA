{
 "cells": [
  {
   "cell_type": "markdown",
   "metadata": {},
   "source": [
    "\n",
    "\n",
    "---\n",
    "\n",
    "\n",
    "## Dados de Palavras Chaves"
   ]
  },
  {
   "cell_type": "code",
   "execution_count": 3,
   "metadata": {},
   "outputs": [],
   "source": [
    "import pandas as pd\n",
    "from sklearn.model_selection import train_test_split\n",
    "from sklearn.linear_model import LinearRegression\n",
    "import matplotlib.pyplot as plt"
   ]
  },
  {
   "cell_type": "code",
   "execution_count": null,
   "metadata": {},
   "outputs": [],
   "source": [
    "chaves = pd.read_csv('Dados/PalavrasChaves.csv')"
   ]
  },
  {
   "cell_type": "code",
   "execution_count": null,
   "metadata": {},
   "outputs": [],
   "source": [
    "chaves.info()"
   ]
  },
  {
   "cell_type": "code",
   "execution_count": null,
   "metadata": {},
   "outputs": [],
   "source": [
    "# Plotar o gráfico de dispersão\n",
    "plt.figure(figsize=(10, 6))\n",
    "plt.scatter(chaves['Cliques'], chaves['Custo'], s=100, alpha=0.5)\n",
    "plt.xlabel('Cliques')\n",
    "plt.ylabel('Custo')\n",
    "\n",
    "# Adicionar rótulos para algumas palavras-chave para tornar o gráfico mais legível\n",
    "for i in range(len(chaves)):\n",
    "    if i % 5 == 0:  # Adicionar rótulos a cada 5 pontos para evitar aglomeração\n",
    "        plt.text(chaves['Cliques'][i], chaves['Custo'][i], chaves['Palavra-chave da rede de pesquisa'][i])\n",
    "\n",
    "plt.title('Relação entre Custo, Cliques e Palavra-chave')\n",
    "plt.grid(True)\n",
    "plt.show()"
   ]
  },
  {
   "cell_type": "code",
   "execution_count": null,
   "metadata": {},
   "outputs": [],
   "source": [
    "\n",
    "# Remover o símbolo de porcentagem e converter para float\n",
    "chaves['CTR'] = chaves['CTR'].str.rstrip('%').str.replace(',', '.').astype(float)\n",
    "\n",
    "# Ordenar as palavras-chave pelo CTR (Taxa de Clique)\n",
    "chaves = chaves.sort_values(by='CTR', ascending=False)\n",
    "\n",
    "# Limitar o número de palavras-chave para facilitar a visualização\n",
    "chaves = chaves.head(15)\n",
    "\n",
    "# Criar o gráfico de barras\n",
    "plt.figure(figsize=(12, 8))\n",
    "plt.bar(chaves['Palavra-chave da rede de pesquisa'], chaves['CTR'], color='skyblue')\n",
    "plt.xlabel('Palavra-chave')\n",
    "plt.ylabel('CTR')\n",
    "plt.title('CTR por Palavra-chave')\n",
    "plt.xticks(rotation=45, ha='right')\n",
    "plt.tight_layout()\n",
    "plt.show()\n",
    "\n"
   ]
  },
  {
   "cell_type": "code",
   "execution_count": null,
   "metadata": {},
   "outputs": [],
   "source": [
    "pesquisa1 = pd.read_csv('Dados/Pesquisas1.csv')"
   ]
  },
  {
   "cell_type": "code",
   "execution_count": null,
   "metadata": {},
   "outputs": [],
   "source": [
    "pesquisa1.info()"
   ]
  },
  {
   "cell_type": "code",
   "execution_count": null,
   "metadata": {},
   "outputs": [],
   "source": [
    "# Ordenando os dados por custo decrescente\n",
    "pesquisa1 = pesquisa1.sort_values(by='Custo')\n",
    "pesquisa1 = pesquisa1.sort_values(by='Cliques')\n",
    "\n",
    "# Limitando o número de palavras-chave para facilitar a visualização\n",
    "pesquisa1 = pesquisa1.head(20)\n",
    "\n",
    "# Plotando o gráfico de barras\n",
    "plt.figure(figsize=(10, 10))\n",
    "plt.bar(pesquisa1['Palavra'], pesquisa1['Cliques'], color='red', alpha=0.7, label='Cliques')\n",
    "plt.bar(pesquisa1['Palavra'], pesquisa1['Custo'], color='blue', alpha=0.7, label='Custo')\n",
    "plt.xlabel('Palavra')\n",
    "plt.ylabel('Valor')\n",
    "plt.title('Relação de Custo e Cliques por Palavra-chave')\n",
    "plt.xticks(rotation=45, ha='right')\n",
    "plt.legend()\n",
    "plt.tight_layout()\n",
    "plt.show()\n",
    "\n"
   ]
  },
  {
   "cell_type": "code",
   "execution_count": null,
   "metadata": {},
   "outputs": [],
   "source": [
    "# Ordenando os dados por custo decrescente\n",
    "pesquisa1 = pesquisa1.sort_values(by='Custo')\n",
    "pesquisa1 = pesquisa1.sort_values(by='Cliques')\n",
    "\n",
    "# Limitando o número de palavras-chave para facilitar a visualização\n",
    "pesquisa1 = pesquisa1.head(20)\n",
    "\n",
    "# Plotando o gráfico de barras\n",
    "plt.figure(figsize=(10, 10))\n",
    "plt.bar(pesquisa1['Palavra'], pesquisa1['Cliques'], color='red', alpha=0.7, label='Cliques')\n",
    "plt.bar(pesquisa1['Palavra'], pesquisa1['Custo'], color='blue', alpha=0.7, label='Custo')\n",
    "plt.xlabel('Palavra')\n",
    "plt.ylabel('Valor')\n",
    "plt.title('Relação de Custo e Cliques por Palavra-chave')\n",
    "plt.xticks(rotation=45, ha='right')\n",
    "plt.legend()\n",
    "plt.tight_layout()\n",
    "plt.show()\n",
    "\n"
   ]
  },
  {
   "cell_type": "code",
   "execution_count": null,
   "metadata": {},
   "outputs": [],
   "source": [
    "\n",
    "# Ordenar as palavras-chave pelo número de impressões\n",
    "pesquisa1 = pesquisa1.sort_values(by='Impressões', ascending=False)\n",
    "\n",
    "# Limitar o número de palavras-chave para facilitar a visualização\n",
    "pesquisa1 = pesquisa1.head(15)\n",
    "\n",
    "# Criar o gráfico de barras\n",
    "plt.figure(figsize=(12, 8))\n",
    "plt.bar(pesquisa1['Palavra'], pesquisa1['Impressões'], color='y')\n",
    "plt.xlabel('Palavra-chave')\n",
    "plt.ylabel('Impressões')\n",
    "plt.title('Número de Impressões por Palavra-chave')\n",
    "plt.xticks(rotation=45, ha='right')\n",
    "plt.tight_layout()\n",
    "plt.show()\n"
   ]
  },
  {
   "cell_type": "code",
   "execution_count": null,
   "metadata": {},
   "outputs": [],
   "source": [
    "pesquisa2 = pd.read_csv('Dados/Pesquisas2.csv')"
   ]
  },
  {
   "cell_type": "code",
   "execution_count": null,
   "metadata": {},
   "outputs": [],
   "source": [
    "pesquisa2.info()"
   ]
  },
  {
   "cell_type": "code",
   "execution_count": null,
   "metadata": {},
   "outputs": [],
   "source": [
    "\n",
    "# Ordenar os dados por custo em ordem decrescente\n",
    "pesquisa2 = pesquisa2.sort_values(by='Custo')\n",
    "pesquisa2 = pesquisa2.sort_values(by='Cliques')\n",
    "\n",
    "# Limitar o número de palavras-chave para facilitar a visualização\n",
    "pesquisa2 = pesquisa2.head(15)\n",
    "\n",
    "# Criar o gráfico de barras\n",
    "plt.figure(figsize=(12, 8))\n",
    "plt.bar(pesquisa2['Pesquisar'], pesquisa2['Custo'], color='skyblue', label='Custo')\n",
    "plt.bar(pesquisa2['Pesquisar'], pesquisa2['Cliques'], color='orange', label='Cliques')\n",
    "\n",
    "# Adicionar legendas e rótulos\n",
    "plt.xlabel('Palavra-chave')\n",
    "plt.ylabel('Valores')\n",
    "plt.title('Relação entre Palavra-chave, Custo e Cliques')\n",
    "plt.xticks(rotation=45, ha='right')\n",
    "plt.legend()\n",
    "\n",
    "# Exibir o gráfico\n",
    "plt.tight_layout()\n",
    "plt.show()\n",
    "\n",
    "\n",
    "\n"
   ]
  },
  {
   "cell_type": "code",
   "execution_count": null,
   "metadata": {},
   "outputs": [],
   "source": [
    "# Ordenar as palavras-chave pelo número de impressões\n",
    "pesquisa2 = pesquisa2.sort_values(by='Impressões', ascending=False)\n",
    "\n",
    "# Limitar o número de palavras-chave para facilitar a visualização\n",
    "pesquisa2 = pesquisa2.head(15)\n",
    "\n",
    "# Criar o gráfico de barras\n",
    "plt.figure(figsize=(12, 8))\n",
    "plt.bar(pesquisa2['Pesquisar'], pesquisa2['Impressões'], color='y')\n",
    "plt.xlabel('Palavra-chave')\n",
    "plt.ylabel('Impressões')\n",
    "plt.title('Número de Impressões por Palavra-chave')\n",
    "plt.xticks(rotation=45, ha='right')\n",
    "plt.tight_layout()\n",
    "plt.show()\n"
   ]
  }
 ],
 "metadata": {
  "kernelspec": {
   "display_name": "Python 3",
   "language": "python",
   "name": "python3"
  },
  "language_info": {
   "codemirror_mode": {
    "name": "ipython",
    "version": 3
   },
   "file_extension": ".py",
   "mimetype": "text/x-python",
   "name": "python",
   "nbconvert_exporter": "python",
   "pygments_lexer": "ipython3",
   "version": "3.9.6"
  }
 },
 "nbformat": 4,
 "nbformat_minor": 2
}
