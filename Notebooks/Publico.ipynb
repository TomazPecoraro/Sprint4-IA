{
 "cells": [
  {
   "cell_type": "markdown",
   "metadata": {},
   "source": [
    "\n",
    "\n",
    "---\n",
    "\n",
    "\n",
    "## Dados de Dia e Hora"
   ]
  },
  {
   "cell_type": "code",
   "execution_count": null,
   "metadata": {},
   "outputs": [],
   "source": [
    "import pandas as pd\n",
    "from sklearn.model_selection import train_test_split\n",
    "from sklearn.linear_model import LinearRegression\n",
    "import matplotlib.pyplot as plt"
   ]
  },
  {
   "cell_type": "code",
   "execution_count": null,
   "metadata": {},
   "outputs": [],
   "source": [
    "data = pd.read_csv('Dados/DiaHora.csv')"
   ]
  },
  {
   "cell_type": "code",
   "execution_count": null,
   "metadata": {},
   "outputs": [],
   "source": [
    "data.info()"
   ]
  },
  {
   "cell_type": "code",
   "execution_count": null,
   "metadata": {},
   "outputs": [],
   "source": [
    "import pandas as pd\n",
    "import matplotlib.pyplot as plt\n",
    "\n",
    "dias_semana = {\n",
    "    'Domingo': 0,\n",
    "    'Segunda-feira': 1,\n",
    "    'Terça-feira': 2,\n",
    "    'Quarta-feira': 3,\n",
    "    'Quinta-feira': 4,\n",
    "    'Sexta-feira': 5,\n",
    "    'Sábado': 6\n",
    "}\n",
    "\n",
    "data['Dia_Num'] = data['Dia'].map(dias_semana)\n",
    "\n",
    "data.sort_values(by=['Dia_Num', 'Hora de início'], inplace=True)\n",
    "\n",
    "plt.figure(figsize=(12, 6))\n",
    "for dia_num in range(7):\n",
    "    dia = list(dias_semana.keys())[dia_num]\n",
    "    grupo = data[data['Dia_Num'] == dia_num]\n",
    "    plt.plot(grupo['Hora de início'], grupo['Impressões'], label=dia)\n",
    "\n",
    "plt.xlabel('Hora de início')\n",
    "plt.ylabel('Impressões')\n",
    "plt.title('Relação entre Dia, Hora e Impressões')\n",
    "plt.legend(title='Dia')\n",
    "plt.grid(True)\n",
    "plt.show()"
   ]
  }
 ],
 "metadata": {
  "language_info": {
   "name": "python"
  }
 },
 "nbformat": 4,
 "nbformat_minor": 2
}
